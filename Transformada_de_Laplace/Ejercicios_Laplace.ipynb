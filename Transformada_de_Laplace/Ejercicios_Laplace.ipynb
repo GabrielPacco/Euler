{
 "cells": [
  {
   "cell_type": "markdown",
   "id": "79ed90b2",
   "metadata": {},
   "source": [
    "**1.** $f(t)=$ $\n",
    "\\left\\{\\begin{array}{l}\n",
    "-1,\\hspace{1cm} \\;0\\leq t < 1  \\\\\n",
    " 1,\\hspace{1cm} \\; t \\geq 1 \\\\\n",
    "\\end{array}\\right.\n",
    "$"
   ]
  },
  {
   "cell_type": "code",
   "execution_count": 6,
   "id": "a9f8f97c",
   "metadata": {},
   "outputs": [
    {
     "name": "stdout",
     "output_type": "stream",
     "text": [
      "Resultado: \n"
     ]
    },
    {
     "data": {
      "text/latex": [
       "$\\displaystyle \\begin{cases} \\frac{e^{- s}}{s} & \\text{for}\\: \\left|{\\arg{\\left(s \\right)}}\\right| < \\frac{\\pi}{2} \\\\\\int\\limits_{1}^{\\infty} e^{- s t}\\, dt & \\text{otherwise} \\end{cases} + \\begin{cases} - \\frac{1}{s} + \\frac{e^{- s}}{s} & \\text{for}\\: s > -\\infty \\wedge s < \\infty \\wedge s \\neq 0 \\\\-1 & \\text{otherwise} \\end{cases}$"
      ],
      "text/plain": [
       "Piecewise((exp(-s)/s, Abs(arg(s)) < pi/2), (Integral(exp(-s*t), (t, 1, oo)), True)) + Piecewise((-1/s + exp(-s)/s, (s > -oo) & (s < oo) & Ne(s, 0)), (-1, True))"
      ]
     },
     "execution_count": 6,
     "metadata": {},
     "output_type": "execute_result"
    }
   ],
   "source": [
    "# Pregunta 01\n",
    "\n",
    "import sympy as sp\n",
    "\n",
    "t, s = sp.symbols('t, s')\n",
    "\n",
    "f = -1\n",
    "g = 1\n",
    "\n",
    "x1 = sp.integrate(f*sp.exp(-s*t), (t, 0, 1))\n",
    "x2 = sp.integrate(g*sp.exp(-s*t), (t, 1, sp.oo))\n",
    "#x1 = sp.laplace_transform(f, t, s, noconds=True)(t, 0, 1)\n",
    "#x2 = sp.laplace_transform(g, t, s, noconds=True)(t, 1, sympy.oo)\n",
    "XS = x1+x2\n",
    "print('Resultado: ')\n",
    "XS"
   ]
  },
  {
   "cell_type": "code",
   "execution_count": null,
   "id": "99fc8f7b",
   "metadata": {},
   "outputs": [],
   "source": []
  }
 ],
 "metadata": {
  "kernelspec": {
   "display_name": "Python 3 (ipykernel)",
   "language": "python",
   "name": "python3"
  },
  "language_info": {
   "codemirror_mode": {
    "name": "ipython",
    "version": 3
   },
   "file_extension": ".py",
   "mimetype": "text/x-python",
   "name": "python",
   "nbconvert_exporter": "python",
   "pygments_lexer": "ipython3",
   "version": "3.9.7"
  }
 },
 "nbformat": 4,
 "nbformat_minor": 5
}
